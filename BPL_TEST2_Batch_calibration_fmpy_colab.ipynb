{
  "cells": [
    {
      "cell_type": "markdown",
      "metadata": {
        "id": "view-in-github",
        "colab_type": "text"
      },
      "source": [
        "<a href=\"https://colab.research.google.com/github/janpeter19/BPL_TEST2_Batch_calibration/blob/main/BPL_TEST2_Batch_calibration_fmpy_colab.ipynb\" target=\"_parent\"><img src=\"https://colab.research.google.com/assets/colab-badge.svg\" alt=\"Open In Colab\"/></a>"
      ]
    },
    {
      "cell_type": "markdown",
      "metadata": {
        "id": "UFcMzs4Y3HwH"
      },
      "source": [
        "# BPL_TEST2_Batch_calibration script with FMPy\n",
        "\n",
        "The key library FMPy and scipy and more are installed.\n",
        "\n",
        "After the installation a small application BPL_TEST2_Batch_calibration is loaded and run. You can continue with this example if you like."
      ]
    },
    {
      "cell_type": "code",
      "execution_count": 1,
      "metadata": {
        "colab": {
          "base_uri": "https://localhost:8080/"
        },
        "id": "ID68dwep2zus",
        "outputId": "56b6a2ee-8956-4025-b24a-f11e1636cfa6"
      },
      "outputs": [
        {
          "output_type": "stream",
          "name": "stdout",
          "text": [
            "No LSB modules are available.\n",
            "Distributor ID:\tUbuntu\n",
            "Description:\tUbuntu 22.04.4 LTS\n",
            "Release:\t22.04\n",
            "Codename:\tjammy\n"
          ]
        }
      ],
      "source": [
        "!lsb_release -a # Actual VM Ubuntu version used by Google"
      ]
    },
    {
      "cell_type": "code",
      "source": [
        "!python --version"
      ],
      "metadata": {
        "id": "0TrVii8d7B7U",
        "outputId": "cf76a324-d181-4a9b-ddec-cc1c791f2d22",
        "colab": {
          "base_uri": "https://localhost:8080/"
        }
      },
      "execution_count": 2,
      "outputs": [
        {
          "output_type": "stream",
          "name": "stdout",
          "text": [
            "Python 3.12.11\n"
          ]
        }
      ]
    },
    {
      "cell_type": "code",
      "source": [
        "import scipy.optimize"
      ],
      "metadata": {
        "id": "pv5B2w22VkH3"
      },
      "execution_count": 3,
      "outputs": []
    },
    {
      "cell_type": "code",
      "execution_count": 4,
      "metadata": {
        "colab": {
          "base_uri": "https://localhost:8080/"
        },
        "id": "04VeBmLU3UFx",
        "outputId": "45d4cdf8-ec22-4adb-a783-adc322de6fe7"
      },
      "outputs": [
        {
          "output_type": "stream",
          "name": "stdout",
          "text": [
            "\u001b[2mUsing Python 3.12.11 environment at: /usr\u001b[0m\n",
            "\u001b[2K\u001b[2mResolved \u001b[1m19 packages\u001b[0m \u001b[2min 347ms\u001b[0m\u001b[0m\n",
            "\u001b[2K\u001b[37m⠙\u001b[0m \u001b[2mPreparing packages...\u001b[0m (0/4)\n",
            "\u001b[2K\u001b[1A\u001b[37m⠙\u001b[0m \u001b[2mPreparing packages...\u001b[0m (0/4)\n",
            "\u001b[2mlark      \u001b[0m \u001b[32m\u001b[2m------------------------------\u001b[0m\u001b[0m     0 B/108.43 KiB\n",
            "\u001b[2K\u001b[2A\u001b[37m⠙\u001b[0m \u001b[2mPreparing packages...\u001b[0m (0/4)\n",
            "\u001b[2mlark      \u001b[0m \u001b[32m\u001b[2m------------------------------\u001b[0m\u001b[0m     0 B/108.43 KiB\n",
            "\u001b[2mfmpy      \u001b[0m \u001b[32m\u001b[2m------------------------------\u001b[0m\u001b[0m     0 B/4.74 MiB\n",
            "\u001b[2K\u001b[3A\u001b[37m⠙\u001b[0m \u001b[2mPreparing packages...\u001b[0m (0/4)\n",
            "\u001b[2mlark      \u001b[0m \u001b[32m-----\u001b[2m-------------------------\u001b[0m\u001b[0m 16.00 KiB/108.43 KiB\n",
            "\u001b[2mfmpy      \u001b[0m \u001b[32m\u001b[2m------------------------------\u001b[0m\u001b[0m     0 B/4.74 MiB\n",
            "\u001b[2K\u001b[3A\u001b[37m⠙\u001b[0m \u001b[2mPreparing packages...\u001b[0m (0/4)\n",
            "\u001b[2mlark      \u001b[0m \u001b[32m-----\u001b[2m-------------------------\u001b[0m\u001b[0m 16.00 KiB/108.43 KiB\n",
            "\u001b[2mfmpy      \u001b[0m \u001b[32m-\u001b[2m-----------------------------\u001b[0m\u001b[0m 14.04 KiB/4.74 MiB\n",
            "\u001b[2K\u001b[3A\u001b[37m⠙\u001b[0m \u001b[2mPreparing packages...\u001b[0m (0/4)\n",
            "\u001b[2mlark      \u001b[0m \u001b[32m-----\u001b[2m-------------------------\u001b[0m\u001b[0m 16.00 KiB/108.43 KiB\n",
            "\u001b[2mfmpy      \u001b[0m \u001b[32m-\u001b[2m-----------------------------\u001b[0m\u001b[0m 14.04 KiB/4.74 MiB\n",
            "\u001b[2K\u001b[3A\u001b[37m⠙\u001b[0m \u001b[2mPreparing packages...\u001b[0m (0/4)\n",
            "\u001b[2mlark      \u001b[0m \u001b[32m---------\u001b[2m---------------------\u001b[0m\u001b[0m 32.00 KiB/108.43 KiB\n",
            "\u001b[2mfmpy      \u001b[0m \u001b[32m-\u001b[2m-----------------------------\u001b[0m\u001b[0m 14.04 KiB/4.74 MiB\n",
            "\u001b[2K\u001b[3A\u001b[37m⠙\u001b[0m \u001b[2mPreparing packages...\u001b[0m (0/4)\n",
            "\u001b[2mlark      \u001b[0m \u001b[32m---------\u001b[2m---------------------\u001b[0m\u001b[0m 32.00 KiB/108.43 KiB\n",
            "\u001b[2mfmpy      \u001b[0m \u001b[32m-\u001b[2m-----------------------------\u001b[0m\u001b[0m 14.04 KiB/4.74 MiB\n",
            "\u001b[2mnumpy     \u001b[0m \u001b[32m-\u001b[2m-----------------------------\u001b[0m\u001b[0m 14.91 KiB/15.87 MiB\n",
            "\u001b[2K\u001b[4A\u001b[37m⠙\u001b[0m \u001b[2mPreparing packages...\u001b[0m (0/4)\n",
            "\u001b[2mlark      \u001b[0m \u001b[32m---------\u001b[2m---------------------\u001b[0m\u001b[0m 32.00 KiB/108.43 KiB\n",
            "\u001b[2mfmpy      \u001b[0m \u001b[32m-\u001b[2m-----------------------------\u001b[0m\u001b[0m 14.04 KiB/4.74 MiB\n",
            "\u001b[2mnumpy     \u001b[0m \u001b[32m-\u001b[2m-----------------------------\u001b[0m\u001b[0m 14.91 KiB/15.87 MiB\n",
            "\u001b[2K\u001b[4A\u001b[37m⠙\u001b[0m \u001b[2mPreparing packages...\u001b[0m (0/4)\n",
            "\u001b[2mlark      \u001b[0m \u001b[32m--------------\u001b[2m----------------\u001b[0m\u001b[0m 48.00 KiB/108.43 KiB\n",
            "\u001b[2mfmpy      \u001b[0m \u001b[32m-\u001b[2m-----------------------------\u001b[0m\u001b[0m 14.04 KiB/4.74 MiB\n",
            "\u001b[2mnumpy     \u001b[0m \u001b[32m-\u001b[2m-----------------------------\u001b[0m\u001b[0m 14.91 KiB/15.87 MiB\n",
            "\u001b[2K\u001b[4A\u001b[37m⠙\u001b[0m \u001b[2mPreparing packages...\u001b[0m (0/4)\n",
            "\u001b[2mlark      \u001b[0m \u001b[32m--------------\u001b[2m----------------\u001b[0m\u001b[0m 48.00 KiB/108.43 KiB\n",
            "\u001b[2mfmpy      \u001b[0m \u001b[32m-\u001b[2m-----------------------------\u001b[0m\u001b[0m 30.04 KiB/4.74 MiB\n",
            "\u001b[2mnumpy     \u001b[0m \u001b[32m-\u001b[2m-----------------------------\u001b[0m\u001b[0m 14.91 KiB/15.87 MiB\n",
            "\u001b[2K\u001b[4A\u001b[37m⠙\u001b[0m \u001b[2mPreparing packages...\u001b[0m (0/4)\n",
            "\u001b[2mlark      \u001b[0m \u001b[32m--------------\u001b[2m----------------\u001b[0m\u001b[0m 48.00 KiB/108.43 KiB\n",
            "\u001b[2mfmpy      \u001b[0m \u001b[32m-\u001b[2m-----------------------------\u001b[0m\u001b[0m 30.04 KiB/4.74 MiB\n",
            "\u001b[2mnumpy     \u001b[0m \u001b[32m-\u001b[2m-----------------------------\u001b[0m\u001b[0m 30.91 KiB/15.87 MiB\n",
            "\u001b[2K\u001b[4A\u001b[37m⠙\u001b[0m \u001b[2mPreparing packages...\u001b[0m (0/4)\n",
            "\u001b[2mlark      \u001b[0m \u001b[32m------------------\u001b[2m------------\u001b[0m\u001b[0m 64.00 KiB/108.43 KiB\n",
            "\u001b[2mfmpy      \u001b[0m \u001b[32m-\u001b[2m-----------------------------\u001b[0m\u001b[0m 30.04 KiB/4.74 MiB\n",
            "\u001b[2mnumpy     \u001b[0m \u001b[32m-\u001b[2m-----------------------------\u001b[0m\u001b[0m 30.91 KiB/15.87 MiB\n",
            "\u001b[2K\u001b[4A\u001b[37m⠙\u001b[0m \u001b[2mPreparing packages...\u001b[0m (0/4)\n",
            "\u001b[2mlark      \u001b[0m \u001b[32m-----------------------\u001b[2m-------\u001b[0m\u001b[0m 80.00 KiB/108.43 KiB\n",
            "\u001b[2mfmpy      \u001b[0m \u001b[32m-\u001b[2m-----------------------------\u001b[0m\u001b[0m 30.04 KiB/4.74 MiB\n",
            "\u001b[2mnumpy     \u001b[0m \u001b[32m-\u001b[2m-----------------------------\u001b[0m\u001b[0m 30.91 KiB/15.87 MiB\n",
            "\u001b[2K\u001b[4A\u001b[37m⠙\u001b[0m \u001b[2mPreparing packages...\u001b[0m (0/4)\n",
            "\u001b[2mlark      \u001b[0m \u001b[32m-----------------------\u001b[2m-------\u001b[0m\u001b[0m 80.00 KiB/108.43 KiB\n",
            "\u001b[2mfmpy      \u001b[0m \u001b[32m-\u001b[2m-----------------------------\u001b[0m\u001b[0m 46.04 KiB/4.74 MiB\n",
            "\u001b[2mnumpy     \u001b[0m \u001b[32m-\u001b[2m-----------------------------\u001b[0m\u001b[0m 30.91 KiB/15.87 MiB\n",
            "\u001b[2K\u001b[4A\u001b[37m⠙\u001b[0m \u001b[2mPreparing packages...\u001b[0m (0/4)\n",
            "\u001b[2mlark      \u001b[0m \u001b[32m-----------------------\u001b[2m-------\u001b[0m\u001b[0m 80.00 KiB/108.43 KiB\n",
            "\u001b[2mfmpy      \u001b[0m \u001b[32m-\u001b[2m-----------------------------\u001b[0m\u001b[0m 46.04 KiB/4.74 MiB\n",
            "\u001b[2mnumpy     \u001b[0m \u001b[32m-\u001b[2m-----------------------------\u001b[0m\u001b[0m 46.91 KiB/15.87 MiB\n",
            "\u001b[2K\u001b[4A\u001b[37m⠙\u001b[0m \u001b[2mPreparing packages...\u001b[0m (0/4)\n",
            "\u001b[2mlark      \u001b[0m \u001b[32m---------------------------\u001b[2m---\u001b[0m\u001b[0m 96.00 KiB/108.43 KiB\n",
            "\u001b[2mfmpy      \u001b[0m \u001b[32m-\u001b[2m-----------------------------\u001b[0m\u001b[0m 46.04 KiB/4.74 MiB\n",
            "\u001b[2mnumpy     \u001b[0m \u001b[32m-\u001b[2m-----------------------------\u001b[0m\u001b[0m 46.91 KiB/15.87 MiB\n",
            "\u001b[2K\u001b[4A\u001b[37m⠙\u001b[0m \u001b[2mPreparing packages...\u001b[0m (0/4)\n",
            "\u001b[2mfmpy      \u001b[0m \u001b[32m-\u001b[2m-----------------------------\u001b[0m\u001b[0m 78.04 KiB/4.74 MiB\n",
            "\u001b[2mnumpy     \u001b[0m \u001b[32m-\u001b[2m-----------------------------\u001b[0m\u001b[0m 47.57 KiB/15.87 MiB\n",
            "\u001b[2K\u001b[3A\u001b[37m⠙\u001b[0m \u001b[2mPreparing packages...\u001b[0m (0/4)\n",
            "\u001b[2mfmpy      \u001b[0m \u001b[32m-\u001b[2m-----------------------------\u001b[0m\u001b[0m 78.04 KiB/4.74 MiB\n",
            "\u001b[2mnumpy     \u001b[0m \u001b[32m-\u001b[2m-----------------------------\u001b[0m\u001b[0m 78.81 KiB/15.87 MiB\n",
            "\u001b[2K\u001b[3A\u001b[37m⠙\u001b[0m \u001b[2mPreparing packages...\u001b[0m (0/4)\n",
            "\u001b[2mfmpy      \u001b[0m \u001b[32m--\u001b[2m----------------------------\u001b[0m\u001b[0m 206.04 KiB/4.74 MiB\n",
            "\u001b[2mnumpy     \u001b[0m \u001b[32m-\u001b[2m-----------------------------\u001b[0m\u001b[0m 190.81 KiB/15.87 MiB\n",
            "\u001b[2K\u001b[3A\u001b[37m⠙\u001b[0m \u001b[2mPreparing packages...\u001b[0m (0/4)\n",
            "\u001b[2mfmpy      \u001b[0m \u001b[32m---\u001b[2m---------------------------\u001b[0m\u001b[0m 366.04 KiB/4.74 MiB\n",
            "\u001b[2mnumpy     \u001b[0m \u001b[32m-\u001b[2m-----------------------------\u001b[0m\u001b[0m 338.81 KiB/15.87 MiB\n",
            "\u001b[2K\u001b[3A\u001b[37m⠹\u001b[0m \u001b[2mPreparing packages...\u001b[0m (1/4)\n",
            "\u001b[2mfmpy      \u001b[0m \u001b[32m----\u001b[2m--------------------------\u001b[0m\u001b[0m 526.04 KiB/4.74 MiB\n",
            "\u001b[2mnumpy     \u001b[0m \u001b[32m-\u001b[2m-----------------------------\u001b[0m\u001b[0m 482.81 KiB/15.87 MiB\n",
            "\u001b[2K\u001b[3A\u001b[37m⠹\u001b[0m \u001b[2mPreparing packages...\u001b[0m (1/4)\n",
            "\u001b[2mfmpy      \u001b[0m \u001b[32m-----\u001b[2m-------------------------\u001b[0m\u001b[0m 734.04 KiB/4.74 MiB\n",
            "\u001b[2mnumpy     \u001b[0m \u001b[32m--\u001b[2m----------------------------\u001b[0m\u001b[0m 674.81 KiB/15.87 MiB\n",
            "\u001b[2K\u001b[3A\u001b[37m⠹\u001b[0m \u001b[2mPreparing packages...\u001b[0m (1/4)\n",
            "\u001b[2mfmpy      \u001b[0m \u001b[32m------\u001b[2m------------------------\u001b[0m\u001b[0m 910.04 KiB/4.74 MiB\n",
            "\u001b[2mnumpy     \u001b[0m \u001b[32m--\u001b[2m----------------------------\u001b[0m\u001b[0m 850.81 KiB/15.87 MiB\n",
            "\u001b[2K\u001b[3A\u001b[37m⠹\u001b[0m \u001b[2mPreparing packages...\u001b[0m (1/4)\n",
            "\u001b[2mfmpy      \u001b[0m \u001b[32m-------\u001b[2m-----------------------\u001b[0m\u001b[0m 1.06 MiB/4.74 MiB\n",
            "\u001b[2mnumpy     \u001b[0m \u001b[32m--\u001b[2m----------------------------\u001b[0m\u001b[0m 1.04 MiB/15.87 MiB\n",
            "\u001b[2K\u001b[3A\u001b[37m⠸\u001b[0m \u001b[2mPreparing packages...\u001b[0m (1/4)\n",
            "\u001b[2mfmpy      \u001b[0m \u001b[32m--------\u001b[2m----------------------\u001b[0m\u001b[0m 1.26 MiB/4.74 MiB\n",
            "\u001b[2mnumpy     \u001b[0m \u001b[32m---\u001b[2m---------------------------\u001b[0m\u001b[0m 1.22 MiB/15.87 MiB\n",
            "\u001b[2K\u001b[3A\u001b[37m⠸\u001b[0m \u001b[2mPreparing packages...\u001b[0m (1/4)\n",
            "\u001b[2mfmpy      \u001b[0m \u001b[32m----------\u001b[2m--------------------\u001b[0m\u001b[0m 1.51 MiB/4.74 MiB\n",
            "\u001b[2mnumpy     \u001b[0m \u001b[32m---\u001b[2m---------------------------\u001b[0m\u001b[0m 1.39 MiB/15.87 MiB\n",
            "\u001b[2K\u001b[3A\u001b[37m⠸\u001b[0m \u001b[2mPreparing packages...\u001b[0m (1/4)\n",
            "\u001b[2mfmpy      \u001b[0m \u001b[32m------------\u001b[2m------------------\u001b[0m\u001b[0m 1.74 MiB/4.74 MiB\n",
            "\u001b[2mnumpy     \u001b[0m \u001b[32m----\u001b[2m--------------------------\u001b[0m\u001b[0m 1.62 MiB/15.87 MiB\n",
            "\u001b[2K\u001b[3A\u001b[37m⠸\u001b[0m \u001b[2mPreparing packages...\u001b[0m (1/4)\n",
            "\u001b[2mfmpy      \u001b[0m \u001b[32m-------------\u001b[2m-----------------\u001b[0m\u001b[0m 1.98 MiB/4.74 MiB\n",
            "\u001b[2mnumpy     \u001b[0m \u001b[32m----\u001b[2m--------------------------\u001b[0m\u001b[0m 1.87 MiB/15.87 MiB\n",
            "\u001b[2K\u001b[3A\u001b[37m⠸\u001b[0m \u001b[2mPreparing packages...\u001b[0m (1/4)\n",
            "\u001b[2mfmpy      \u001b[0m \u001b[32m---------------\u001b[2m---------------\u001b[0m\u001b[0m 2.23 MiB/4.74 MiB\n",
            "\u001b[2mnumpy     \u001b[0m \u001b[32m-----\u001b[2m-------------------------\u001b[0m\u001b[0m 2.14 MiB/15.87 MiB\n",
            "\u001b[2K\u001b[3A\u001b[37m⠼\u001b[0m \u001b[2mPreparing packages...\u001b[0m (1/4)\n",
            "\u001b[2mfmpy      \u001b[0m \u001b[32m----------------\u001b[2m--------------\u001b[0m\u001b[0m 2.48 MiB/4.74 MiB\n",
            "\u001b[2mnumpy     \u001b[0m \u001b[32m-----\u001b[2m-------------------------\u001b[0m\u001b[0m 2.42 MiB/15.87 MiB\n",
            "\u001b[2K\u001b[3A\u001b[37m⠼\u001b[0m \u001b[2mPreparing packages...\u001b[0m (1/4)\n",
            "\u001b[2mfmpy      \u001b[0m \u001b[32m------------------\u001b[2m------------\u001b[0m\u001b[0m 2.74 MiB/4.74 MiB\n",
            "\u001b[2mnumpy     \u001b[0m \u001b[32m------\u001b[2m------------------------\u001b[0m\u001b[0m 2.68 MiB/15.87 MiB\n",
            "\u001b[2K\u001b[3A\u001b[37m⠼\u001b[0m \u001b[2mPreparing packages...\u001b[0m (1/4)\n",
            "\u001b[2mfmpy      \u001b[0m \u001b[32m--------------------\u001b[2m----------\u001b[0m\u001b[0m 3.01 MiB/4.74 MiB\n",
            "\u001b[2mnumpy     \u001b[0m \u001b[32m------\u001b[2m------------------------\u001b[0m\u001b[0m 2.98 MiB/15.87 MiB\n",
            "\u001b[2K\u001b[3A\u001b[37m⠴\u001b[0m \u001b[2mPreparing packages...\u001b[0m (1/4)\n",
            "\u001b[2mfmpy      \u001b[0m \u001b[32m----------------------\u001b[2m--------\u001b[0m\u001b[0m 3.32 MiB/4.74 MiB\n",
            "\u001b[2mnumpy     \u001b[0m \u001b[32m-------\u001b[2m-----------------------\u001b[0m\u001b[0m 3.30 MiB/15.87 MiB\n",
            "\u001b[2K\u001b[3A\u001b[37m⠴\u001b[0m \u001b[2mPreparing packages...\u001b[0m (1/4)\n",
            "\u001b[2mfmpy      \u001b[0m \u001b[32m-----------------------\u001b[2m-------\u001b[0m\u001b[0m 3.63 MiB/4.74 MiB\n",
            "\u001b[2mnumpy     \u001b[0m \u001b[32m-------\u001b[2m-----------------------\u001b[0m\u001b[0m 3.63 MiB/15.87 MiB\n",
            "\u001b[2K\u001b[3A\u001b[37m⠴\u001b[0m \u001b[2mPreparing packages...\u001b[0m (1/4)\n",
            "\u001b[2mfmpy      \u001b[0m \u001b[32m-------------------------\u001b[2m-----\u001b[0m\u001b[0m 3.95 MiB/4.74 MiB\n",
            "\u001b[2mnumpy     \u001b[0m \u001b[32m--------\u001b[2m----------------------\u001b[0m\u001b[0m 3.94 MiB/15.87 MiB\n",
            "\u001b[2K\u001b[3A\u001b[37m⠴\u001b[0m \u001b[2mPreparing packages...\u001b[0m (1/4)\n",
            "\u001b[2mfmpy      \u001b[0m \u001b[32m---------------------------\u001b[2m---\u001b[0m\u001b[0m 4.26 MiB/4.74 MiB\n",
            "\u001b[2mnumpy     \u001b[0m \u001b[32m---------\u001b[2m---------------------\u001b[0m\u001b[0m 4.27 MiB/15.87 MiB\n",
            "\u001b[2K\u001b[3A\u001b[37m⠦\u001b[0m \u001b[2mPreparing packages...\u001b[0m (1/4)\n",
            "\u001b[2mfmpy      \u001b[0m \u001b[32m------------------------------\u001b[2m\u001b[0m\u001b[0m 4.59 MiB/4.74 MiB\n",
            "\u001b[2mnumpy     \u001b[0m \u001b[32m---------\u001b[2m---------------------\u001b[0m\u001b[0m 4.64 MiB/15.87 MiB\n",
            "\u001b[2K\u001b[3A\u001b[37m⠦\u001b[0m \u001b[2mPreparing packages...\u001b[0m (1/4)\n",
            "\u001b[2mnumpy     \u001b[0m \u001b[32m----------\u001b[2m--------------------\u001b[0m\u001b[0m 4.79 MiB/15.87 MiB\n",
            "\u001b[2K\u001b[2A\u001b[37m⠦\u001b[0m \u001b[2mPreparing packages...\u001b[0m (1/4)\n",
            "\u001b[2mnumpy     \u001b[0m \u001b[32m----------\u001b[2m--------------------\u001b[0m\u001b[0m 5.05 MiB/15.87 MiB\n",
            "\u001b[2K\u001b[2A\u001b[37m⠦\u001b[0m \u001b[2mPreparing packages...\u001b[0m (1/4)\n",
            "\u001b[2mnumpy     \u001b[0m \u001b[32m-----------\u001b[2m-------------------\u001b[0m\u001b[0m 5.62 MiB/15.87 MiB\n",
            "\u001b[2K\u001b[2A\u001b[37m⠦\u001b[0m \u001b[2mPreparing packages...\u001b[0m (1/4)\n",
            "\u001b[2mnumpy     \u001b[0m \u001b[32m------------\u001b[2m------------------\u001b[0m\u001b[0m 6.18 MiB/15.87 MiB\n",
            "\u001b[2K\u001b[2A\u001b[37m⠦\u001b[0m \u001b[2mPreparing packages...\u001b[0m (1/4)\n",
            "\u001b[2mnumpy     \u001b[0m \u001b[32m-------------\u001b[2m-----------------\u001b[0m\u001b[0m 6.76 MiB/15.87 MiB\n",
            "\u001b[2K\u001b[2A\u001b[37m⠧\u001b[0m \u001b[2mPreparing packages...\u001b[0m (2/4)\n",
            "\u001b[2mnumpy     \u001b[0m \u001b[32m--------------\u001b[2m----------------\u001b[0m\u001b[0m 7.35 MiB/15.87 MiB\n",
            "\u001b[2K\u001b[2A\u001b[37m⠧\u001b[0m \u001b[2mPreparing packages...\u001b[0m (2/4)\n",
            "\u001b[2mnumpy     \u001b[0m \u001b[32m---------------\u001b[2m---------------\u001b[0m\u001b[0m 7.76 MiB/15.87 MiB\n",
            "\u001b[2K\u001b[2A\u001b[37m⠧\u001b[0m \u001b[2mPreparing packages...\u001b[0m (2/4)\n",
            "\u001b[2mnumpy     \u001b[0m \u001b[32m-----------------\u001b[2m-------------\u001b[0m\u001b[0m 8.52 MiB/15.87 MiB\n",
            "\u001b[2K\u001b[2A\u001b[37m⠧\u001b[0m \u001b[2mPreparing packages...\u001b[0m (2/4)\n",
            "\u001b[2mnumpy     \u001b[0m \u001b[32m------------------\u001b[2m------------\u001b[0m\u001b[0m 9.15 MiB/15.87 MiB\n",
            "\u001b[2K\u001b[2A\u001b[37m⠇\u001b[0m \u001b[2mPreparing packages...\u001b[0m (2/4)\n",
            "\u001b[2mnumpy     \u001b[0m \u001b[32m-------------------\u001b[2m-----------\u001b[0m\u001b[0m 9.86 MiB/15.87 MiB\n",
            "\u001b[2K\u001b[2A\u001b[37m⠇\u001b[0m \u001b[2mPreparing packages...\u001b[0m (2/4)\n",
            "\u001b[2mnumpy     \u001b[0m \u001b[32m--------------------\u001b[2m----------\u001b[0m\u001b[0m 10.56 MiB/15.87 MiB\n",
            "\u001b[2K\u001b[2A\u001b[37m⠇\u001b[0m \u001b[2mPreparing packages...\u001b[0m (2/4)\n",
            "\u001b[2mnumpy     \u001b[0m \u001b[32m----------------------\u001b[2m--------\u001b[0m\u001b[0m 11.23 MiB/15.87 MiB\n",
            "\u001b[2K\u001b[2A\u001b[37m⠇\u001b[0m \u001b[2mPreparing packages...\u001b[0m (2/4)\n",
            "\u001b[2mnumpy     \u001b[0m \u001b[32m-----------------------\u001b[2m-------\u001b[0m\u001b[0m 11.91 MiB/15.87 MiB\n",
            "\u001b[2K\u001b[2A\u001b[37m⠋\u001b[0m \u001b[2mPreparing packages...\u001b[0m (2/4)\n",
            "\u001b[2mnumpy     \u001b[0m \u001b[32m------------------------\u001b[2m------\u001b[0m\u001b[0m 12.70 MiB/15.87 MiB\n",
            "\u001b[2K\u001b[2A\u001b[37m⠋\u001b[0m \u001b[2mPreparing packages...\u001b[0m (2/4)\n",
            "\u001b[2mnumpy     \u001b[0m \u001b[32m--------------------------\u001b[2m----\u001b[0m\u001b[0m 13.35 MiB/15.87 MiB\n",
            "\u001b[2K\u001b[2A\u001b[37m⠋\u001b[0m \u001b[2mPreparing packages...\u001b[0m (2/4)\n",
            "\u001b[2mnumpy     \u001b[0m \u001b[32m---------------------------\u001b[2m---\u001b[0m\u001b[0m 14.06 MiB/15.87 MiB\n",
            "\u001b[2K\u001b[2A\u001b[37m⠋\u001b[0m \u001b[2mPreparing packages...\u001b[0m (2/4)\n",
            "\u001b[2mnumpy     \u001b[0m \u001b[32m----------------------------\u001b[2m--\u001b[0m\u001b[0m 14.81 MiB/15.87 MiB\n",
            "\u001b[2K\u001b[2A\u001b[37m⠙\u001b[0m \u001b[2mPreparing packages...\u001b[0m (2/4)\n",
            "\u001b[2mnumpy     \u001b[0m \u001b[32m------------------------------\u001b[2m\u001b[0m\u001b[0m 15.51 MiB/15.87 MiB\n",
            "\u001b[2K\u001b[2A\u001b[37m⠙\u001b[0m \u001b[2mPreparing packages...\u001b[0m (2/4)\n",
            "\u001b[2K\u001b[1A\u001b[37m⠙\u001b[0m \u001b[2mPreparing packages...\u001b[0m (2/4)\n",
            "\u001b[2K\u001b[1A\u001b[37m⠙\u001b[0m \u001b[2mPreparing packages...\u001b[0m (2/4)\n",
            "\u001b[2K\u001b[1A\u001b[37m⠙\u001b[0m \u001b[2mPreparing packages...\u001b[0m (2/4)\n",
            "\u001b[2K\u001b[1A\u001b[37m⠹\u001b[0m \u001b[2mPreparing packages...\u001b[0m (3/4)\n",
            "\u001b[2K\u001b[1A\u001b[37m⠹\u001b[0m \u001b[2mPreparing packages...\u001b[0m (3/4)\n",
            "\u001b[2K\u001b[1A\u001b[37m⠹\u001b[0m \u001b[2mPreparing packages...\u001b[0m (3/4)\n",
            "\u001b[2K\u001b[1A\u001b[37m⠸\u001b[0m \u001b[2mPreparing packages...\u001b[0m (3/4)\n",
            "\u001b[2K\u001b[1A\u001b[37m⠸\u001b[0m \u001b[2mPreparing packages...\u001b[0m (3/4)\n",
            "\u001b[2K\u001b[1A\u001b[37m⠸\u001b[0m \u001b[2mPreparing packages...\u001b[0m (3/4)\n",
            "\u001b[2K\u001b[1A\u001b[37m⠸\u001b[0m \u001b[2mPreparing packages...\u001b[0m (3/4)\n",
            "\u001b[2K\u001b[1A\u001b[37m⠸\u001b[0m \u001b[2mPreparing packages...\u001b[0m (3/4)\n",
            "\u001b[2K\u001b[1A\u001b[37m⠼\u001b[0m \u001b[2mPreparing packages...\u001b[0m (3/4)\n",
            "\u001b[2K\u001b[1A\u001b[37m⠼\u001b[0m \u001b[2mPreparing packages...\u001b[0m (3/4)\n",
            "\u001b[2K\u001b[1A\u001b[37m⠼\u001b[0m \u001b[2mPreparing packages...\u001b[0m (3/4)\n",
            "\u001b[2K\u001b[1A\u001b[37m⠼\u001b[0m \u001b[2mPreparing packages...\u001b[0m (3/4)\n",
            "\u001b[2K\u001b[2mPrepared \u001b[1m4 packages\u001b[0m \u001b[2min 2.60s\u001b[0m\u001b[0m\n",
            "\u001b[2mUninstalled \u001b[1m2 packages\u001b[0m \u001b[2min 243ms\u001b[0m\u001b[0m\n",
            "\u001b[2K\u001b[2mInstalled \u001b[1m4 packages\u001b[0m \u001b[2min 97ms\u001b[0m\u001b[0m\n",
            " \u001b[31m-\u001b[39m \u001b[1mcmake\u001b[0m\u001b[2m==3.31.6\u001b[0m\n",
            " \u001b[32m+\u001b[39m \u001b[1mcmake\u001b[0m\u001b[2m==4.1.0\u001b[0m\n",
            " \u001b[32m+\u001b[39m \u001b[1mfmpy\u001b[0m\u001b[2m==0.3.26\u001b[0m\n",
            " \u001b[32m+\u001b[39m \u001b[1mlark\u001b[0m\u001b[2m==1.2.2\u001b[0m\n",
            " \u001b[31m-\u001b[39m \u001b[1mnumpy\u001b[0m\u001b[2m==2.0.2\u001b[0m\n",
            " \u001b[32m+\u001b[39m \u001b[1mnumpy\u001b[0m\u001b[2m==2.3.2\u001b[0m\n"
          ]
        }
      ],
      "source": [
        "!uv pip install fmpy"
      ]
    },
    {
      "cell_type": "markdown",
      "metadata": {
        "id": "mxILgQ103nZ6"
      },
      "source": [
        "Now specific installation and the run simulations. Start with connecting to Github. Then upload the four files:\n",
        "\n",
        "* FMU - BPL_TEST2_Batch_linux_om_me.fmu\n",
        "* Setup-file - BPL_TEST2_Batch_fmpy_explore.py\n",
        "\n"
      ]
    },
    {
      "cell_type": "code",
      "execution_count": 5,
      "metadata": {
        "colab": {
          "base_uri": "https://localhost:8080/"
        },
        "id": "RfWPh1B63yBF",
        "outputId": "187641b3-3e1a-40ea-e25b-17c3dca082fe"
      },
      "outputs": [
        {
          "output_type": "stream",
          "name": "stderr",
          "text": [
            "Cloning into 'BPL_TEST2_Batch_calibration'...\n"
          ]
        }
      ],
      "source": [
        "%%bash\n",
        "git clone https://github.com/janpeter19/BPL_TEST2_Batch_calibration"
      ]
    },
    {
      "cell_type": "code",
      "execution_count": 6,
      "metadata": {
        "colab": {
          "base_uri": "https://localhost:8080/"
        },
        "id": "i6uOVB44300a",
        "outputId": "e850f1bd-6927-4f35-dbc2-19bb0b985e83"
      },
      "outputs": [
        {
          "output_type": "stream",
          "name": "stdout",
          "text": [
            "/content/BPL_TEST2_Batch_calibration\n"
          ]
        }
      ],
      "source": [
        "%cd BPL_TEST2_Batch_calibration"
      ]
    },
    {
      "cell_type": "markdown",
      "metadata": {
        "id": "UTETJm3l6heL"
      },
      "source": [
        "# BPL_TEST2_Batch_calibration - demo\n",
        "Author: Jan Peter Axelsson\n",
        "\n",
        "This notebook shows the possibilities for calibration of the model BPL_TEST2_Batch using scipy.optimize.minimize() routine. There are several different methods to choose between. In this notebook we work with simulated data.\n",
        "\n",
        "The text-book model of batch cultivation we simulate is the following where $S$ is substrate, $X$ is cell concentration, and $V$ is volume of the broth\n",
        "\n",
        "$$\n",
        "\\eqalign{\n",
        "{d(VS) \\over dt} =& -q_S(S) \\cdot VX \\cr\n",
        "{d(VX) \\over dt} =& \\mu(S) \\cdot VX }\n",
        "$$\n",
        "\n",
        "and where specific cell growth rate $\\mu$ and substrate uptake rate $q_S$ are\n",
        "\n",
        "$$\n",
        "\\mu(S) = Y \\cdot q_S(S)\n",
        "$$\n",
        "\n",
        "$$\n",
        "q_S(S) = q_S^{max} {S \\over K_s + S}\n",
        "$$\n",
        "\n",
        "where $Y$ is the yield, $q_S^{max}$ is the maximal specific substrate uptake rate and $K_s$ is the corresponding saturation constant.\n",
        "\n",
        "The parameter estimation is done with optimization methods that only require evaluation of the missmatch between simulation with given parameters and data. At start the allowed range for each parameter is given. The method used for optimization is SLSQP but can easily be changed [1].\n",
        "\n",
        "In the near future the FMU may provide first derivative gradient informaion, that will make it possible to choose corresponding method of minimize() for improved performance. This possibility is related to the upgrade to the FMI-standard ver 3.0 for the Modelica compiler.  \n",
        "\n",
        "The Python package PyFMI [2] that is the base for FMU-explore has a simplified built-in\n",
        "functionality for parameter estimation that also use scipy.optimize.minimize(). However, there is estimatation functionaly but the purpose seems to only address smaller examples. There is for instance no support to handle models that takes sub-models from libraries and necesssary changes of default parameters not to be estimated. Therefore we here define a Python function evaluate() that facilitate the formulation of the parameter estimation and also bring flexibility to choice of optimization method, default Nelder-Mead."
      ]
    },
    {
      "cell_type": "code",
      "execution_count": 7,
      "metadata": {
        "colab": {
          "base_uri": "https://localhost:8080/"
        },
        "id": "s2k4-lXRjQ8G",
        "outputId": "411de574-5305-40a1-9b84-3b8d092f0582"
      },
      "outputs": [
        {
          "output_type": "stream",
          "name": "stdout",
          "text": [
            "Linux - run FMU pre-compiled OpenModelica\n",
            "\n",
            "Model for the process has been setup. Key commands:\n",
            " - par()       - change of parameters and initial values\n",
            " - init()      - change initial values only\n",
            " - simu()      - simulate and plot\n",
            " - newplot()   - make a new plot\n",
            " - show()      - show plot from previous simulation\n",
            " - disp()      - display parameters and initial values from the last simulation\n",
            " - describe()  - describe culture, broth, parameters, variables with values/units\n",
            "\n",
            "Note that both disp() and describe() takes values from the last simulation\n",
            "and the command process_diagram() brings up the main configuration\n",
            "\n",
            "Brief information about a command by help(), eg help(simu)\n",
            "Key system information is listed with the command system_info()\n"
          ]
        }
      ],
      "source": [
        "run -i BPL_TEST2_Batch_fmpy_explore.py"
      ]
    },
    {
      "cell_type": "code",
      "execution_count": 8,
      "metadata": {
        "id": "3FGDqmUblfY4"
      },
      "outputs": [],
      "source": [
        "# Adjust the size of diagrams\n",
        "plt.rcParams['figure.figsize'] = [15/2.54, 12/2.54]"
      ]
    },
    {
      "cell_type": "code",
      "source": [
        "process_diagram()"
      ],
      "metadata": {
        "id": "7ZumIhlFPi0f",
        "outputId": "c07e474d-ad8f-4d63-85a0-85ace389d676",
        "colab": {
          "base_uri": "https://localhost:8080/",
          "height": 205
        }
      },
      "execution_count": 9,
      "outputs": [
        {
          "output_type": "stream",
          "name": "stdout",
          "text": [
            "No processDiagram.png file in the FMU, but try the file on disk.\n"
          ]
        },
        {
          "output_type": "display_data",
          "data": {
            "text/plain": [
              "<Figure size 590.551x472.441 with 1 Axes>"
            ],
            "image/png": "[encoded data removed]"
          },
          "metadata": {}
        }
      ]
    },
    {
      "cell_type": "markdown",
      "metadata": {
        "id": "GTCMYao8lnQk"
      },
      "source": [
        "## 1 Generate data later used for parameter estimation"
      ]
    },
    {
      "cell_type": "code",
      "execution_count": 10,
      "metadata": {
        "id": "-eDPzPtZlmgi"
      },
      "outputs": [],
      "source": [
        "import pandas as pd"
      ]
    },
    {
      "cell_type": "code",
      "execution_count": 11,
      "metadata": {
        "colab": {
          "base_uri": "https://localhost:8080/",
          "height": 466
        },
        "id": "jXQP_e_NlxJr",
        "outputId": "94790890-df1d-4626-82f5-5e00ea3f07ec"
      },
      "outputs": [
        {
          "output_type": "display_data",
          "data": {
            "text/plain": [
              "<Figure size 590.551x472.441 with 2 Axes>"
            ],
            "image/png": "[encoded data removed]"
          },
          "metadata": {}
        }
      ],
      "source": [
        "# Data generated\n",
        "simulationTime = 6.0\n",
        "par(Y=0.50, qSmax=1.00, Ks=0.1)\n",
        "init(V_start=1.0, VS_start=10, VX_start=1.0)\n",
        "newplot(plotType='Demo_2')\n",
        "simu(simulationTime, options=opts_data)"
      ]
    },
    {
      "cell_type": "code",
      "execution_count": 12,
      "metadata": {
        "id": "xF_li-0OmAnS",
        "outputId": "d0af6850-6b47-452f-91bf-ac7a0a7e9154",
        "colab": {
          "base_uri": "https://localhost:8080/",
          "height": 457
        }
      },
      "outputs": [
        {
          "output_type": "execute_result",
          "data": {
            "text/plain": [
              "    time         X             S\n",
              "0    0.0  1.000000  1.000000e+01\n",
              "1    0.5  1.280777  9.438447e+00\n",
              "2    1.0  1.640089  8.719823e+00\n",
              "3    1.5  2.099634  7.800732e+00\n",
              "4    2.0  2.686794  6.626412e+00\n",
              "5    2.5  3.435509  5.128981e+00\n",
              "6    3.0  4.385357  3.229286e+00\n",
              "7    3.5  5.559274  8.814516e-01\n",
              "8    4.0  6.000000  4.618858e-07\n",
              "9    4.5  6.000000 -7.022022e-11\n",
              "10   5.0  6.000000 -2.610415e-12\n",
              "11   5.5  6.000000  1.020722e-14\n",
              "12   6.0  6.000000 -1.037244e-17"
            ],
            "text/html": [
              "\n",
              "  <div id=\"df-e881073b-5e66-4d04-b57a-fd96c1b2f624\" class=\"colab-df-container\">\n",
              "    <div>\n",
              "<style scoped>\n",
              "    .dataframe tbody tr th:only-of-type {\n",
              "        vertical-align: middle;\n",
              "    }\n",
              "\n",
              "    .dataframe tbody tr th {\n",
              "        vertical-align: top;\n",
              "    }\n",
              "\n",
              "    .dataframe thead th {\n",
              "        text-align: right;\n",
              "    }\n",
              "</style>\n",
              "<table border=\"1\" class=\"dataframe\">\n",
              "  <thead>\n",
              "    <tr style=\"text-align: right;\">\n",
              "      <th></th>\n",
              "      <th>time</th>\n",
              "      <th>X</th>\n",
              "      <th>S</th>\n",
              "    </tr>\n",
              "  </thead>\n",
              "  <tbody>\n",
              "    <tr>\n",
              "      <th>0</th>\n",
              "      <td>0.0</td>\n",
              "      <td>1.000000</td>\n",
              "      <td>1.000000e+01</td>\n",
              "    </tr>\n",
              "    <tr>\n",
              "      <th>1</th>\n",
              "      <td>0.5</td>\n",
              "      <td>1.280777</td>\n",
              "      <td>9.438447e+00</td>\n",
              "    </tr>\n",
              "    <tr>\n",
              "      <th>2</th>\n",
              "      <td>1.0</td>\n",
              "      <td>1.640089</td>\n",
              "      <td>8.719823e+00</td>\n",
              "    </tr>\n",
              "    <tr>\n",
              "      <th>3</th>\n",
              "      <td>1.5</td>\n",
              "      <td>2.099634</td>\n",
              "      <td>7.800732e+00</td>\n",
              "    </tr>\n",
              "    <tr>\n",
              "      <th>4</th>\n",
              "      <td>2.0</td>\n",
              "      <td>2.686794</td>\n",
              "      <td>6.626412e+00</td>\n",
              "    </tr>\n",
              "    <tr>\n",
              "      <th>5</th>\n",
              "      <td>2.5</td>\n",
              "      <td>3.435509</td>\n",
              "      <td>5.128981e+00</td>\n",
              "    </tr>\n",
              "    <tr>\n",
              "      <th>6</th>\n",
              "      <td>3.0</td>\n",
              "      <td>4.385357</td>\n",
              "      <td>3.229286e+00</td>\n",
              "    </tr>\n",
              "    <tr>\n",
              "      <th>7</th>\n",
              "      <td>3.5</td>\n",
              "      <td>5.559274</td>\n",
              "      <td>8.814516e-01</td>\n",
              "    </tr>\n",
              "    <tr>\n",
              "      <th>8</th>\n",
              "      <td>4.0</td>\n",
              "      <td>6.000000</td>\n",
              "      <td>4.618858e-07</td>\n",
              "    </tr>\n",
              "    <tr>\n",
              "      <th>9</th>\n",
              "      <td>4.5</td>\n",
              "      <td>6.000000</td>\n",
              "      <td>-7.022022e-11</td>\n",
              "    </tr>\n",
              "    <tr>\n",
              "      <th>10</th>\n",
              "      <td>5.0</td>\n",
              "      <td>6.000000</td>\n",
              "      <td>-2.610415e-12</td>\n",
              "    </tr>\n",
              "    <tr>\n",
              "      <th>11</th>\n",
              "      <td>5.5</td>\n",
              "      <td>6.000000</td>\n",
              "      <td>1.020722e-14</td>\n",
              "    </tr>\n",
              "    <tr>\n",
              "      <th>12</th>\n",
              "      <td>6.0</td>\n",
              "      <td>6.000000</td>\n",
              "      <td>-1.037244e-17</td>\n",
              "    </tr>\n",
              "  </tbody>\n",
              "</table>\n",
              "</div>\n",
              "    <div class=\"colab-df-buttons\">\n",
              "\n",
              "  <div class=\"colab-df-container\">\n",
              "    <button class=\"colab-df-convert\" onclick=\"convertToInteractive('df-e881073b-5e66-4d04-b57a-fd96c1b2f624')\"\n",
              "            title=\"Convert this dataframe to an interactive table.\"\n",
              "            style=\"display:none;\">\n",
              "\n",
              "  <svg xmlns=\"http://www.w3.org/2000/svg\" height=\"24px\" viewBox=\"0 -960 960 960\">\n",
              "    <path d=\"M120-120v-720h720v720H120Zm60-500h600v-160H180v160Zm220 220h160v-160H400v160Zm0 220h160v-160H400v160ZM180-400h160v-160H180v160Zm440 0h160v-160H620v160ZM180-180h160v-160H180v160Zm440 0h160v-160H620v160Z\"/>\n",
              "  </svg>\n",
              "    </button>\n",
              "\n",
              "  <style>\n",
              "    .colab-df-container {\n",
              "      display:flex;\n",
              "      gap: 12px;\n",
              "    }\n",
              "\n",
              "    .colab-df-convert {\n",
              "      background-color: #E8F0FE;\n",
              "      border: none;\n",
              "      border-radius: 50%;\n",
              "      cursor: pointer;\n",
              "      display: none;\n",
              "      fill: #1967D2;\n",
              "      height: 32px;\n",
              "      padding: 0 0 0 0;\n",
              "      width: 32px;\n",
              "    }\n",
              "\n",
              "    .colab-df-convert:hover {\n",
              "      background-color: #E2EBFA;\n",
              "      box-shadow: 0px 1px 2px rgba(60, 64, 67, 0.3), 0px 1px 3px 1px rgba(60, 64, 67, 0.15);\n",
              "      fill: #174EA6;\n",
              "    }\n",
              "\n",
              "    .colab-df-buttons div {\n",
              "      margin-bottom: 4px;\n",
              "    }\n",
              "\n",
              "    [theme=dark] .colab-df-convert {\n",
              "      background-color: #3B4455;\n",
              "      fill: #D2E3FC;\n",
              "    }\n",
              "\n",
              "    [theme=dark] .colab-df-convert:hover {\n",
              "      background-color: #434B5C;\n",
              "      box-shadow: 0px 1px 3px 1px rgba(0, 0, 0, 0.15);\n",
              "      filter: drop-shadow(0px 1px 2px rgba(0, 0, 0, 0.3));\n",
              "      fill: #FFFFFF;\n",
              "    }\n",
              "  </style>\n",
              "\n",
              "    <script>\n",
              "      const buttonEl =\n",
              "        document.querySelector('#df-e881073b-5e66-4d04-b57a-fd96c1b2f624 button.colab-df-convert');\n",
              "      buttonEl.style.display =\n",
              "        google.colab.kernel.accessAllowed ? 'block' : 'none';\n",
              "\n",
              "      async function convertToInteractive(key) {\n",
              "        const element = document.querySelector('#df-e881073b-5e66-4d04-b57a-fd96c1b2f624');\n",
              "        const dataTable =\n",
              "          await google.colab.kernel.invokeFunction('convertToInteractive',\n",
              "                                                    [key], {});\n",
              "        if (!dataTable) return;\n",
              "\n",
              "        const docLinkHtml = 'Like what you see? Visit the ' +\n",
              "          '<a target=\"_blank\" href=https://colab.research.google.com/notebooks/data_table.ipynb>data table notebook</a>'\n",
              "          + ' to learn more about interactive tables.';\n",
              "        element.innerHTML = '';\n",
              "        dataTable['output_type'] = 'display_data';\n",
              "        await google.colab.output.renderOutput(dataTable, element);\n",
              "        const docLink = document.createElement('div');\n",
              "        docLink.innerHTML = docLinkHtml;\n",
              "        element.appendChild(docLink);\n",
              "      }\n",
              "    </script>\n",
              "  </div>\n",
              "\n",
              "\n",
              "    <div id=\"df-cbd50d4b-d642-4cab-b0fa-314818c54c12\">\n",
              "      <button class=\"colab-df-quickchart\" onclick=\"quickchart('df-cbd50d4b-d642-4cab-b0fa-314818c54c12')\"\n",
              "                title=\"Suggest charts\"\n",
              "                style=\"display:none;\">\n",
              "\n",
              "<svg xmlns=\"http://www.w3.org/2000/svg\" height=\"24px\"viewBox=\"0 0 24 24\"\n",
              "     width=\"24px\">\n",
              "    <g>\n",
              "        <path d=\"M19 3H5c-1.1 0-2 .9-2 2v14c0 1.1.9 2 2 2h14c1.1 0 2-.9 2-2V5c0-1.1-.9-2-2-2zM9 17H7v-7h2v7zm4 0h-2V7h2v10zm4 0h-2v-4h2v4z\"/>\n",
              "    </g>\n",
              "</svg>\n",
              "      </button>\n",
              "\n",
              "<style>\n",
              "  .colab-df-quickchart {\n",
              "      --bg-color: #E8F0FE;\n",
              "      --fill-color: #1967D2;\n",
              "      --hover-bg-color: #E2EBFA;\n",
              "      --hover-fill-color: #174EA6;\n",
              "      --disabled-fill-color: #AAA;\n",
              "      --disabled-bg-color: #DDD;\n",
              "  }\n",
              "\n",
              "  [theme=dark] .colab-df-quickchart {\n",
              "      --bg-color: #3B4455;\n",
              "      --fill-color: #D2E3FC;\n",
              "      --hover-bg-color: #434B5C;\n",
              "      --hover-fill-color: #FFFFFF;\n",
              "      --disabled-bg-color: #3B4455;\n",
              "      --disabled-fill-color: #666;\n",
              "  }\n",
              "\n",
              "  .colab-df-quickchart {\n",
              "    background-color: var(--bg-color);\n",
              "    border: none;\n",
              "    border-radius: 50%;\n",
              "    cursor: pointer;\n",
              "    display: none;\n",
              "    fill: var(--fill-color);\n",
              "    height: 32px;\n",
              "    padding: 0;\n",
              "    width: 32px;\n",
              "  }\n",
              "\n",
              "  .colab-df-quickchart:hover {\n",
              "    background-color: var(--hover-bg-color);\n",
              "    box-shadow: 0 1px 2px rgba(60, 64, 67, 0.3), 0 1px 3px 1px rgba(60, 64, 67, 0.15);\n",
              "    fill: var(--button-hover-fill-color);\n",
              "  }\n",
              "\n",
              "  .colab-df-quickchart-complete:disabled,\n",
              "  .colab-df-quickchart-complete:disabled:hover {\n",
              "    background-color: var(--disabled-bg-color);\n",
              "    fill: var(--disabled-fill-color);\n",
              "    box-shadow: none;\n",
              "  }\n",
              "\n",
              "  .colab-df-spinner {\n",
              "    border: 2px solid var(--fill-color);\n",
              "    border-color: transparent;\n",
              "    border-bottom-color: var(--fill-color);\n",
              "    animation:\n",
              "      spin 1s steps(1) infinite;\n",
              "  }\n",
              "\n",
              "  @keyframes spin {\n",
              "    0% {\n",
              "      border-color: transparent;\n",
              "      border-bottom-color: var(--fill-color);\n",
              "      border-left-color: var(--fill-color);\n",
              "    }\n",
              "    20% {\n",
              "      border-color: transparent;\n",
              "      border-left-color: var(--fill-color);\n",
              "      border-top-color: var(--fill-color);\n",
              "    }\n",
              "    30% {\n",
              "      border-color: transparent;\n",
              "      border-left-color: var(--fill-color);\n",
              "      border-top-color: var(--fill-color);\n",
              "      border-right-color: var(--fill-color);\n",
              "    }\n",
              "    40% {\n",
              "      border-color: transparent;\n",
              "      border-right-color: var(--fill-color);\n",
              "      border-top-color: var(--fill-color);\n",
              "    }\n",
              "    60% {\n",
              "      border-color: transparent;\n",
              "      border-right-color: var(--fill-color);\n",
              "    }\n",
              "    80% {\n",
              "      border-color: transparent;\n",
              "      border-right-color: var(--fill-color);\n",
              "      border-bottom-color: var(--fill-color);\n",
              "    }\n",
              "    90% {\n",
              "      border-color: transparent;\n",
              "      border-bottom-color: var(--fill-color);\n",
              "    }\n",
              "  }\n",
              "</style>\n",
              "\n",
              "      <script>\n",
              "        async function quickchart(key) {\n",
              "          const quickchartButtonEl =\n",
              "            document.querySelector('#' + key + ' button');\n",
              "          quickchartButtonEl.disabled = true;  // To prevent multiple clicks.\n",
              "          quickchartButtonEl.classList.add('colab-df-spinner');\n",
              "          try {\n",
              "            const charts = await google.colab.kernel.invokeFunction(\n",
              "                'suggestCharts', [key], {});\n",
              "          } catch (error) {\n",
              "            console.error('Error during call to suggestCharts:', error);\n",
              "          }\n",
              "          quickchartButtonEl.classList.remove('colab-df-spinner');\n",
              "          quickchartButtonEl.classList.add('colab-df-quickchart-complete');\n",
              "        }\n",
              "        (() => {\n",
              "          let quickchartButtonEl =\n",
              "            document.querySelector('#df-cbd50d4b-d642-4cab-b0fa-314818c54c12 button');\n",
              "          quickchartButtonEl.style.display =\n",
              "            google.colab.kernel.accessAllowed ? 'block' : 'none';\n",
              "        })();\n",
              "      </script>\n",
              "    </div>\n",
              "\n",
              "  <div id=\"id_057d952b-1df9-4e2e-ac1e-2ae948cfd08e\">\n",
              "    <style>\n",
              "      .colab-df-generate {\n",
              "        background-color: #E8F0FE;\n",
              "        border: none;\n",
              "        border-radius: 50%;\n",
              "        cursor: pointer;\n",
              "        display: none;\n",
              "        fill: #1967D2;\n",
              "        height: 32px;\n",
              "        padding: 0 0 0 0;\n",
              "        width: 32px;\n",
              "      }\n",
              "\n",
              "      .colab-df-generate:hover {\n",
              "        background-color: #E2EBFA;\n",
              "        box-shadow: 0px 1px 2px rgba(60, 64, 67, 0.3), 0px 1px 3px 1px rgba(60, 64, 67, 0.15);\n",
              "        fill: #174EA6;\n",
              "      }\n",
              "\n",
              "      [theme=dark] .colab-df-generate {\n",
              "        background-color: #3B4455;\n",
              "        fill: #D2E3FC;\n",
              "      }\n",
              "\n",
              "      [theme=dark] .colab-df-generate:hover {\n",
              "        background-color: #434B5C;\n",
              "        box-shadow: 0px 1px 3px 1px rgba(0, 0, 0, 0.15);\n",
              "        filter: drop-shadow(0px 1px 2px rgba(0, 0, 0, 0.3));\n",
              "        fill: #FFFFFF;\n",
              "      }\n",
              "    </style>\n",
              "    <button class=\"colab-df-generate\" onclick=\"generateWithVariable('data')\"\n",
              "            title=\"Generate code using this dataframe.\"\n",
              "            style=\"display:none;\">\n",
              "\n",
              "  <svg xmlns=\"http://www.w3.org/2000/svg\" height=\"24px\"viewBox=\"0 0 24 24\"\n",
              "       width=\"24px\">\n",
              "    <path d=\"M7,19H8.4L18.45,9,17,7.55,7,17.6ZM5,21V16.75L18.45,3.32a2,2,0,0,1,2.83,0l1.4,1.43a1.91,1.91,0,0,1,.58,1.4,1.91,1.91,0,0,1-.58,1.4L9.25,21ZM18.45,9,17,7.55Zm-12,3A5.31,5.31,0,0,0,4.9,8.1,5.31,5.31,0,0,0,1,6.5,5.31,5.31,0,0,0,4.9,4.9,5.31,5.31,0,0,0,6.5,1,5.31,5.31,0,0,0,8.1,4.9,5.31,5.31,0,0,0,12,6.5,5.46,5.46,0,0,0,6.5,12Z\"/>\n",
              "  </svg>\n",
              "    </button>\n",
              "    <script>\n",
              "      (() => {\n",
              "      const buttonEl =\n",
              "        document.querySelector('#id_057d952b-1df9-4e2e-ac1e-2ae948cfd08e button.colab-df-generate');\n",
              "      buttonEl.style.display =\n",
              "        google.colab.kernel.accessAllowed ? 'block' : 'none';\n",
              "\n",
              "      buttonEl.onclick = () => {\n",
              "        google.colab.notebook.generateWithVariable('data');\n",
              "      }\n",
              "      })();\n",
              "    </script>\n",
              "  </div>\n",
              "\n",
              "    </div>\n",
              "  </div>\n"
            ],
            "application/vnd.google.colaboratory.intrinsic+json": {
              "type": "dataframe",
              "variable_name": "data",
              "summary": "{\n  \"name\": \"data\",\n  \"rows\": 13,\n  \"fields\": [\n    {\n      \"column\": \"time\",\n      \"properties\": {\n        \"dtype\": \"number\",\n        \"std\": 1.9472202409246537,\n        \"min\": 0.0,\n        \"max\": 6.0,\n        \"num_unique_values\": 13,\n        \"samples\": [\n          5.5,\n          4.5,\n          0.0\n        ],\n        \"semantic_type\": \"\",\n        \"description\": \"\"\n      }\n    },\n    {\n      \"column\": \"X\",\n      \"properties\": {\n        \"dtype\": \"number\",\n        \"std\": 2.0452618843853028,\n        \"min\": 1.0,\n        \"max\": 6.000000000035112,\n        \"num_unique_values\": 13,\n        \"samples\": [\n          5.999999999999996,\n          6.000000000035112,\n          1.0\n        ],\n        \"semantic_type\": \"\",\n        \"description\": \"\"\n      }\n    },\n    {\n      \"column\": \"S\",\n      \"properties\": {\n        \"dtype\": \"number\",\n        \"std\": 4.090523768770605,\n        \"min\": -7.022021601328924e-11,\n        \"max\": 10.0,\n        \"num_unique_values\": 13,\n        \"samples\": [\n          1.0207220354984522e-14,\n          -7.022021601328924e-11,\n          10.0\n        ],\n        \"semantic_type\": \"\",\n        \"description\": \"\"\n      }\n    }\n  ]\n}"
            }
          },
          "metadata": {},
          "execution_count": 12
        }
      ],
      "source": [
        "# Store data in a DataFrame for later use\n",
        "data = pd.DataFrame(data={'time':sim_res['time'], 'X':sim_res['bioreactor.c[1]'], 'S':sim_res['bioreactor.c[2]']})\n",
        "data"
      ]
    },
    {
      "cell_type": "markdown",
      "metadata": {
        "id": "SJgJWIahjpkY"
      },
      "source": [
        "## 2 Simulation with initial guess of parameters compared with data\n",
        "\n",
        "Here we define the parameters that should be estimated and specify allowed ranges.\n",
        "Nominal parameters are chosen as the mid-point of the allowed parameter range.\n",
        "\n",
        "Simulation with these nominal parameter set and compare with data give an idea of who well the model fit data."
      ]
    },
    {
      "cell_type": "code",
      "execution_count": 13,
      "metadata": {
        "id": "ikcDT_Pujs3O"
      },
      "outputs": [],
      "source": [
        "# Parameters to be estimated using parDict names and their bounds\n",
        "parEstim = ['Y', 'qSmax', 'Ks']\n",
        "parBounds = [(0.4, 0.8), (0.7, 1.3), (0.05, 0.20)]\n",
        "parEstim_0 = [np.mean(parBounds[k]) for k in range(len(parBounds))]"
      ]
    },
    {
      "cell_type": "code",
      "execution_count": 14,
      "metadata": {
        "id": "vx5UWIT6jxxc",
        "outputId": "15569584-4e68-458e-e64d-e6472c3ca070",
        "colab": {
          "base_uri": "https://localhost:8080/",
          "height": 466
        }
      },
      "outputs": [
        {
          "output_type": "display_data",
          "data": {
            "text/plain": [
              "<Figure size 590.551x472.441 with 2 Axes>"
            ],
            "image/png": "[encoded data removed]"
          },
          "metadata": {}
        }
      ],
      "source": [
        "# Simulation with nominal parameters\n",
        "newplot(plotType='Demo_1')\n",
        "par(Y=parEstim_0[0], qSmax=parEstim_0[1], Ks=parEstim_0[2])\n",
        "simu(simulationTime)\n",
        "\n",
        "# Show data\n",
        "ax1.plot(data['time'], data['S'],'b*')\n",
        "ax2.plot(data['time'], data['X'],'r*')\n",
        "plt.show()"
      ]
    },
    {
      "cell_type": "code",
      "execution_count": 15,
      "metadata": {
        "id": "1rqTGUTdjx73",
        "outputId": "aa8058a3-b68c-40b9-f31f-32427ad72b7b",
        "colab": {
          "base_uri": "https://localhost:8080/",
          "height": 466
        }
      },
      "outputs": [
        {
          "output_type": "display_data",
          "data": {
            "text/plain": [
              "<Figure size 590.551x472.441 with 2 Axes>"
            ],
            "image/png": "[encoded data removed]"
          },
          "metadata": {}
        }
      ],
      "source": [
        "# Simulation over the parameter ranges given\n",
        "newplot(plotType='Demo_1')\n",
        "for Y_value in parBounds [0]:\n",
        "    for qSmax_value in parBounds[1]:\n",
        "        for Ks_value in parBounds[2]:\n",
        "            par(Y=Y_value, qSmax=qSmax_value, Ks=Ks_value)\n",
        "            simu(simulationTime)\n",
        "\n",
        "# Show data\n",
        "ax1.plot(data['time'], data['S'],'b*')\n",
        "ax2.plot(data['time'], data['X'],'r*')\n",
        "plt.show()"
      ]
    },
    {
      "cell_type": "markdown",
      "metadata": {
        "id": "VGtOdaTWmf48"
      },
      "source": [
        "Simulation over the diferent parameter combinations of the parameter bounds shows that data is \"covered\" and we have good hope to find a parameter combination that fits data well."
      ]
    },
    {
      "cell_type": "markdown",
      "metadata": {
        "id": "L-Skl_QQmvDx"
      },
      "source": [
        "## 3 Parameter estimation\n",
        "\n",
        "Here we use the scipy.optimize.minimize() procedure which contain a family of different methods [1].\n",
        "The default method is Nelder-Mead and is robust for fitting a model to data. Further we have chosen to work with bounds for the parameters to be estimated and the initial guess is chosen as the middle point in parameter space."
      ]
    },
    {
      "cell_type": "code",
      "execution_count": 16,
      "metadata": {
        "id": "lWI-xUyvnGwi"
      },
      "outputs": [],
      "source": [
        "# Optimization routine import\n",
        "#!pip install scipy==1.11.4  # Installing a specific compatible version\n",
        "#import scipy.optimize"
      ]
    },
    {
      "cell_type": "code",
      "execution_count": 17,
      "metadata": {
        "id": "sEQt2957nHPU"
      },
      "outputs": [],
      "source": [
        "# Parameters to be estimated using parDict names and their bounds\n",
        "extra_args = (parEstim, data, fmu_model, simulationTime, parDict, parLocation)"
      ]
    },
    {
      "cell_type": "code",
      "execution_count": 18,
      "metadata": {
        "id": "P3NqjIfUnNy9"
      },
      "outputs": [],
      "source": [
        "# Modified evaluation function tailored for Python optimization algorithms\n",
        "def objective(x, parEstim, data=data, fmu_model=fmu_model, simulationTime=simulationTime,\n",
        "             parDict=parDict, parLocation=parLocation):\n",
        "    \"\"\"The parameter list is tailored for scipy optimization algorithms interface,\n",
        "       where the first parameter x is an array with parameters that are tuned\n",
        "       and evalauted and parEstim is a list of the names of these parameters.\n",
        "       The code can be made 20-30% faster, but loner, using pyfmi-commands directly.\"\"\"\n",
        "\n",
        "    # Update parameters and simulate\n",
        "    for i, p in enumerate(parEstim): par(**{p:x[i]})\n",
        "    simu(simulationTime, options=opts_data)\n",
        "\n",
        "    # Calculate loss function V\n",
        "    V={}\n",
        "    V['X'] = np.linalg.norm(data['X'] - np.interp(data['time'], sim_res['time'], sim_res['bioreactor.c[1]']))\n",
        "    V['S'] = np.linalg.norm(data['S'] - np.interp(data['time'], sim_res['time'], sim_res['bioreactor.c[2]']))\n",
        "\n",
        "    return V['X'] + V['S']"
      ]
    },
    {
      "cell_type": "code",
      "execution_count": 19,
      "metadata": {
        "id": "-AExpVp6nOAj"
      },
      "outputs": [],
      "source": [
        "import time"
      ]
    },
    {
      "cell_type": "code",
      "execution_count": 20,
      "metadata": {
        "id": "OnUBcKG2nXjv",
        "outputId": "98b34bf1-6a2c-469d-e947-3e95902dbd12",
        "colab": {
          "base_uri": "https://localhost:8080/"
        }
      },
      "outputs": [
        {
          "output_type": "stream",
          "name": "stdout",
          "text": [
            "Optimization terminated successfully.\n",
            "         Current function value: 0.045511\n",
            "         Iterations: 39\n",
            "         Function evaluations: 75\n",
            "CPU-time = 1.9704272747039795\n"
          ]
        }
      ],
      "source": [
        "# Run minimize()\n",
        "start_time = time.time()\n",
        "result = scipy.optimize.minimize(objective, x0=parEstim_0, args=extra_args,\n",
        "                                 method='Nelder-Mead', bounds=parBounds, options={\"disp\":True})\n",
        "print('CPU-time =', time.time()-start_time)"
      ]
    },
    {
      "cell_type": "code",
      "execution_count": 21,
      "metadata": {
        "id": "tMTXuk1PnXx0",
        "outputId": "d657ece9-9159-49fe-a7fc-7f1a9780216d",
        "colab": {
          "base_uri": "https://localhost:8080/"
        }
      },
      "outputs": [
        {
          "output_type": "execute_result",
          "data": {
            "text/plain": [
              "       message: Optimization terminated successfully.\n",
              "       success: True\n",
              "        status: 0\n",
              "           fun: 0.045510651189744136\n",
              "             x: [ 5.001e-01  1.007e+00  1.405e-01]\n",
              "           nit: 39\n",
              "          nfev: 75\n",
              " final_simplex: (array([[ 5.001e-01,  1.007e+00,  1.405e-01],\n",
              "                       [ 5.001e-01,  1.007e+00,  1.405e-01],\n",
              "                       [ 5.001e-01,  1.007e+00,  1.405e-01],\n",
              "                       [ 5.001e-01,  1.007e+00,  1.405e-01]]), array([ 4.551e-02,  4.552e-02,  4.556e-02,  4.559e-02]))"
            ]
          },
          "metadata": {},
          "execution_count": 21
        }
      ],
      "source": [
        "result"
      ]
    },
    {
      "cell_type": "markdown",
      "metadata": {
        "id": "DED3EeQknjBF"
      },
      "source": [
        "The estimated parameters result.x are very close to the original values and no surprise."
      ]
    },
    {
      "cell_type": "markdown",
      "metadata": {
        "id": "fzzOCMgFnp-2"
      },
      "source": [
        "## 4 Simulation with estimated parameters compared with data"
      ]
    },
    {
      "cell_type": "code",
      "execution_count": 22,
      "metadata": {
        "id": "SCzQkc8BnX9T",
        "outputId": "8b511cfc-e7c5-493b-ea76-918bf97e6159",
        "colab": {
          "base_uri": "https://localhost:8080/",
          "height": 466
        }
      },
      "outputs": [
        {
          "output_type": "display_data",
          "data": {
            "text/plain": [
              "<Figure size 590.551x472.441 with 2 Axes>"
            ],
            "image/png": "[encoded data removed]"
          },
          "metadata": {}
        }
      ],
      "source": [
        "newplot(plotType='Demo_1')\n",
        "par(Y=result.x[0], qSmax=result.x[1], Ks=result.x[2])\n",
        "simu(simulationTime)\n",
        "\n",
        "# Show data\n",
        "ax1.plot(data['time'], data['S'],'b*')\n",
        "ax2.plot(data['time'], data['X'],'r*')\n",
        "plt.show()"
      ]
    },
    {
      "cell_type": "code",
      "execution_count": 23,
      "metadata": {
        "id": "QKrkx9mkn3Vv",
        "outputId": "ec5c27f4-3279-4d30-fbf1-9b132a4da67f",
        "colab": {
          "base_uri": "https://localhost:8080/"
        }
      },
      "outputs": [
        {
          "output_type": "stream",
          "name": "stdout",
          "text": [
            "Y : 0.5000549816703198\n",
            "qSmax : 1.0066481313036082\n",
            "Ks : 0.14048278753421406\n"
          ]
        }
      ],
      "source": [
        "# The estimated parameters are\n",
        "for i in range(len(parEstim)): print(parEstim[i],':', result.x[i])"
      ]
    },
    {
      "cell_type": "markdown",
      "metadata": {
        "id": "oev7dn9Zn71X"
      },
      "source": [
        "## 5 Analysis of the loss function\n",
        "\n",
        "The problem is small and analysis of the loss function brings some insight. From the diagram above showing parameter sweep over combinations min- and max-parameters we see that the parameter $K_s$ has little influence. Let use set that a fixed value and then plot the loss function in the parameters $Y$ and $qSmax$.  We do this by go through all the parametera combinations and evaluate each of them."
      ]
    },
    {
      "cell_type": "code",
      "execution_count": 24,
      "metadata": {
        "id": "MElBZgYpoCK4",
        "outputId": "b5f2e758-b0c0-4786-9db8-d9d60df02715",
        "colab": {
          "base_uri": "https://localhost:8080/",
          "height": 449
        }
      },
      "outputs": [
        {
          "output_type": "display_data",
          "data": {
            "text/plain": [
              "<Figure size 590.551x472.441 with 2 Axes>"
            ],
            "image/png": "[encoded data removed]"
          },
          "metadata": {}
        }
      ],
      "source": [
        "# Sweep through Y and qSmax variation and store the value of the loss-function for each\n",
        "nY = 20\n",
        "nqSmax = 20\n",
        "V = np.zeros((nY, nqSmax))\n",
        "\n",
        "Y = np.linspace(parBounds[0][0],parBounds[0][1],nY)\n",
        "qSmax = np.linspace(parBounds[1][0],parBounds[1][1],nqSmax)\n",
        "\n",
        "for j in range(nY):\n",
        "    for k in range(nqSmax):\n",
        "        V[k,j] = objective([Y[j], qSmax[k], 0.1], parEstim)\n",
        "\n",
        "# Contour plot\n",
        "plt.figure()\n",
        "plt.clf\n",
        "plt.subplot(1,1,1)\n",
        "plt.contourf(Y, qSmax, V, 20, cmap='RdGy')\n",
        "plt.plot(result.x[0], result.x[1],'k+')\n",
        "plt.colorbar()\n",
        "plt.ylabel('qSmax')\n",
        "plt.xlabel('Y')\n",
        "plt.show()"
      ]
    },
    {
      "cell_type": "markdown",
      "metadata": {
        "id": "GMCkRwMdoLWF"
      },
      "source": [
        "We see the following in the contour diagram of the loss function simplified:\n",
        "* The minima is unique in the range of parmaters we study. This is good news.\n",
        "* The contour plot is ellipsoid and rather narrow. The more narrow the ellipsoid the more difficult and more time it takes to converge to the minima.\n",
        "* The direction of the ellipsoid axis indicate the correlation you may get between the two parameters during the minimization process.\n",
        "\n",
        "Note that the form of the contour plot change with the parameters (and initial values) of the actual proces.\n",
        "You can see the impact by changing the parameters in \"cell # 4\" where data is generated and then just choose to run that cell and the cells below. No need to restart the notebook."
      ]
    },
    {
      "cell_type": "markdown",
      "metadata": {
        "id": "w9R7WisroQ9L"
      },
      "source": [
        "## 6 Summary\n",
        "\n",
        "A choice was made to work with allowed ranges of parameters to be estimated and a start value was defined as the center point in this parameter space. There are only three methods available in optimize.minimize() that can handle bounds on parameters.\n",
        "\n",
        "An evaluate() function was created that define how the difference beween simulation and data is measured. The function is rather transparent and easy to modify and you may want to change weight on the loss in S and X, for instance. Here they have so far equal weight.\n",
        "\n",
        "The FMU-explore workspace dictionaries partDict[] and parLocation[] are useful also here and simplify the code for the evaluation() function. But we also use the detailed PyFMI-functions to administrate and set parameters of the actual simulation.\n",
        "\n",
        "The call optimize.minimize() has several parameters and can easily be modified, for instance change of method. For fitting a model to data Nelder-Mead is ao a robust and good choice, but can be somewhat slow.\n",
        "\n",
        "The estimated parameters were close to perfect!\n",
        "\n",
        "The contour plot of the simplified loss function shows that the minima is unique and should not be difficult too difficut to obtain. More narrow elliptical contour plots would indicate difficulties. Multiple local minima would also be a problem."
      ]
    },
    {
      "cell_type": "markdown",
      "metadata": {
        "id": "jocY1wc4oU3T"
      },
      "source": [
        "## 7 References\n",
        "\n",
        "[1] Scipy Reference guide on optimize.minimize()\n",
        "[here](https://docs.scipy.org/doc/scipy/reference/generated/scipy.optimize.minimize.html?highlight=minimize)\n",
        "\n",
        "[2] Andersson, C., Åkesson, J., Fuhrer C. : \"PyFMI: A Python package for simulation of coupled dynamic models with the functional mock-up interface\", Centre for Mathematical Sciences, Lund University, Report LUTFNA-5008-2016, 2016."
      ]
    },
    {
      "cell_type": "markdown",
      "metadata": {
        "id": "6W-ZrGbiokih"
      },
      "source": [
        "## Appendix"
      ]
    },
    {
      "cell_type": "code",
      "execution_count": 25,
      "metadata": {
        "id": "ff0MCegVKSC0",
        "outputId": "8110949c-64ef-46bb-aea7-54de5a88e8e6",
        "colab": {
          "base_uri": "https://localhost:8080/"
        }
      },
      "outputs": [
        {
          "output_type": "stream",
          "name": "stdout",
          "text": [
            "['bioreactor', 'bioreactor.culture']\n"
          ]
        }
      ],
      "source": [
        "describe('parts')"
      ]
    },
    {
      "cell_type": "code",
      "execution_count": 26,
      "metadata": {
        "id": "l5zDoRbOKoW5",
        "outputId": "ef15d026-0f48-4515-cde0-b7159c603ce9",
        "colab": {
          "base_uri": "https://localhost:8080/"
        }
      },
      "outputs": [
        {
          "output_type": "stream",
          "name": "stdout",
          "text": [
            "MSL: 4.1.0 - used components: none\n"
          ]
        }
      ],
      "source": [
        "describe('MSL')"
      ]
    },
    {
      "cell_type": "code",
      "execution_count": 27,
      "metadata": {
        "id": "mUFH0C7DKpek",
        "outputId": "0b40a5da-5d3f-4784-fb4b-92e30d87df87",
        "colab": {
          "base_uri": "https://localhost:8080/"
        }
      },
      "outputs": [
        {
          "output_type": "stream",
          "name": "stdout",
          "text": [
            "\n",
            "System information\n",
            " -OS: Linux\n",
            " -Python: 3.12.11\n",
            " -Scipy: 1.16.1\n",
            " -FMPy: 0.3.26\n",
            " -FMU by: OpenModelica Compiler OpenModelica 1.26.0~dev-200-gcb3254b\n",
            " -FMI: 2.0\n",
            " -Type: ME\n",
            " -Name: BPL.Examples_TEST2.Batch\n",
            " -Generated: 2025-07-28T07:58:02Z\n",
            " -MSL: 4.1.0\n",
            " -Description: Bioprocess Library version 2.3.1\n",
            " -Interaction: FMU-explore for FMPy version 1.0.1\n"
          ]
        }
      ],
      "source": [
        "system_info()"
      ]
    },
    {
      "cell_type": "code",
      "source": [],
      "metadata": {
        "id": "BTEq_feFoPKn"
      },
      "execution_count": null,
      "outputs": []
    }
  ],
  "metadata": {
    "colab": {
      "provenance": [],
      "include_colab_link": true
    },
    "kernelspec": {
      "display_name": "Python 3 (ipykernel)",
      "language": "python",
      "name": "python3"
    },
    "language_info": {
      "codemirror_mode": {
        "name": "ipython",
        "version": 3
      },
      "file_extension": ".py",
      "mimetype": "text/x-python",
      "name": "python",
      "nbconvert_exporter": "python",
      "pygments_lexer": "ipython3",
      "version": "3.10.6"
    }
  },
  "nbformat": 4,
  "nbformat_minor": 0
}